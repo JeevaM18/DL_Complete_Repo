{
  "nbformat": 4,
  "nbformat_minor": 0,
  "metadata": {
    "colab": {
      "provenance": []
    },
    "kernelspec": {
      "name": "python3",
      "display_name": "Python 3"
    },
    "language_info": {
      "name": "python"
    }
  },
  "cells": [
    {
      "cell_type": "code",
      "execution_count": 1,
      "metadata": {
        "colab": {
          "base_uri": "https://localhost:8080/"
        },
        "id": "CHTpCOMvI4bL",
        "outputId": "03c0c005-7af9-46c3-ba57-bedfcbaa06b5"
      },
      "outputs": [
        {
          "output_type": "stream",
          "name": "stdout",
          "text": [
            "Downloading data from https://www.cs.toronto.edu/~kriz/cifar-10-python.tar.gz\n",
            "\u001b[1m170498071/170498071\u001b[0m \u001b[32m━━━━━━━━━━━━━━━━━━━━\u001b[0m\u001b[37m\u001b[0m \u001b[1m11s\u001b[0m 0us/step\n"
          ]
        }
      ],
      "source": [
        "import tensorflow as tf\n",
        "from tensorflow.keras import layers\n",
        "import numpy as np\n",
        "import matplotlib.pyplot as plt\n",
        "\n",
        "\n",
        "cifar10 = tf.keras.datasets.cifar10\n",
        "(x_train, y_train), (_, _) = cifar10.load_data()\n",
        "y_train = y_train.reshape(-1)\n",
        "\n",
        "\n",
        "x_train = x_train.astype(\"float32\") / 255.0\n",
        "\n",
        "\n",
        "BUFFER_SIZE = 60000\n",
        "BATCH_SIZE = 128\n",
        "NOISE_DIM = 100\n",
        "NUM_CLASSES = 10\n",
        "IMG_SHAPE = (32, 32, 3)\n",
        "\n",
        "\n",
        "y_train_oh = tf.keras.utils.to_categorical(y_train, NUM_CLASSES)\n",
        "\n"
      ]
    },
    {
      "cell_type": "code",
      "source": [
        "\n",
        "train_dataset = tf.data.Dataset.from_tensor_slices((x_train, y_train_oh))\n",
        "train_dataset = train_dataset.shuffle(BUFFER_SIZE).batch(BATCH_SIZE)\n",
        "\n",
        "def label_embedding(label):\n",
        "    embed = layers.Embedding(NUM_CLASSES, NOISE_DIM)(label)\n",
        "    embed = layers.Dense(32*32*3)(embed)\n",
        "    embed = layers.Reshape((32, 32, 3))(embed)\n",
        "    return embed\n",
        "\n",
        "def build_generator():\n",
        "    noise_input = layers.Input(shape=(NOISE_DIM,))\n",
        "    label_input = layers.Input(shape=(NUM_CLASSES,))\n",
        "\n",
        "    x = layers.Concatenate()([noise_input, label_input])\n",
        "    x = layers.Dense(8*8*256, use_bias=False)(x)\n",
        "    x = layers.BatchNormalization()(x)\n",
        "    x = layers.LeakyReLU()(x)\n",
        "\n",
        "    x = layers.Reshape((8, 8, 256))(x)\n",
        "\n",
        "    x = layers.Conv2DTranspose(128, (5, 5), strides=(1, 1), padding='same', use_bias=False)(x)\n",
        "    x = layers.BatchNormalization()(x)\n",
        "    x = layers.LeakyReLU()(x)\n",
        "\n",
        "    x = layers.Conv2DTranspose(64, (5, 5), strides=(2, 2), padding='same', use_bias=False)(x)\n",
        "    x = layers.BatchNormalization()(x)\n",
        "    x = layers.LeakyReLU()(x)\n",
        "\n",
        "    x = layers.Conv2DTranspose(3, (5, 5), strides=(2, 2), padding='same', use_bias=False, activation='tanh')(x)\n",
        "\n",
        "    return tf.keras.Model([noise_input, label_input], x)\n",
        "\n",
        "def build_discriminator():\n",
        "    image_input = layers.Input(shape=IMG_SHAPE)\n",
        "    label_input = layers.Input(shape=(NUM_CLASSES,))\n",
        "\n",
        "    label = layers.Dense(32*32*3)(label_input)\n",
        "    label = layers.Reshape((32, 32, 3))(label)\n",
        "\n",
        "    x = layers.Concatenate()([image_input, label])\n",
        "    x = layers.Conv2D(64, (5, 5), strides=(2, 2), padding='same')(x)\n",
        "    x = layers.LeakyReLU()(x)\n",
        "    x = layers.Dropout(0.3)(x)\n",
        "\n",
        "    x = layers.Conv2D(128, (5, 5), strides=(2, 2), padding='same')(x)\n",
        "    x = layers.LeakyReLU()(x)\n",
        "    x = layers.Dropout(0.3)(x)\n",
        "\n",
        "    x = layers.Flatten()(x)\n",
        "    x = layers.Dense(1)(x)\n",
        "\n",
        "    return tf.keras.Model([image_input, label_input], x)\n",
        "\n",
        "cross_entropy = tf.keras.losses.BinaryCrossentropy(from_logits=True)\n",
        "\n",
        "def discriminator_loss(real_output, fake_output):\n",
        "    return cross_entropy(tf.ones_like(real_output), real_output) + cross_entropy(tf.zeros_like(fake_output), fake_output)\n",
        "\n",
        "def generator_loss(fake_output):\n",
        "    return cross_entropy(tf.ones_like(fake_output), fake_output)\n",
        "\n",
        "generator = build_generator()\n",
        "discriminator = build_discriminator()\n",
        "\n",
        "generator_optimizer = tf.keras.optimizers.Adam(1e-4)\n",
        "discriminator_optimizer = tf.keras.optimizers.Adam(1e-4)\n"
      ],
      "metadata": {
        "id": "8UFELTj5JaDd"
      },
      "execution_count": 2,
      "outputs": []
    },
    {
      "cell_type": "code",
      "source": [
        "@tf.function\n",
        "def train_step(images, labels):\n",
        "    batch_size = tf.shape(labels)[0]  # Get dynamic batch size\n",
        "    noise = tf.random.normal([batch_size, NOISE_DIM])\n",
        "\n",
        "    with tf.GradientTape() as gen_tape, tf.GradientTape() as disc_tape:\n",
        "        generated_images = generator([noise, labels], training=True)\n",
        "        real_output = discriminator([images, labels], training=True)\n",
        "        fake_output = discriminator([generated_images, labels], training=True)\n",
        "\n",
        "        gen_loss = generator_loss(fake_output)\n",
        "        disc_loss = discriminator_loss(real_output, fake_output)\n",
        "\n",
        "    gradients_of_generator = gen_tape.gradient(gen_loss, generator.trainable_variables)\n",
        "    gradients_of_discriminator = disc_tape.gradient(disc_loss, discriminator.trainable_variables)\n",
        "\n",
        "    generator_optimizer.apply_gradients(zip(gradients_of_generator, generator.trainable_variables))\n",
        "    discriminator_optimizer.apply_gradients(zip(gradients_of_discriminator, discriminator.trainable_variables))\n",
        "\n",
        "\n",
        "# Training loop\n",
        "def train(dataset, epochs):\n",
        "    for epoch in range(epochs):\n",
        "        for image_batch, label_batch in dataset:\n",
        "            train_step(image_batch, label_batch)\n",
        "        print(f\"Epoch {epoch+1} completed\")\n",
        "\n",
        "# Train model (use fewer epochs if needed for quick test)\n",
        "train(train_dataset, epochs=3)\n",
        "\n",
        "# Class label mapping\n",
        "class_names = ['airplane', 'automobile', 'bird', 'cat', 'deer', 'dog', 'frog', 'horse', 'ship', 'truck']\n",
        "class_dict = {name: i for i, name in enumerate(class_names)}\n",
        "\n",
        "# Generate images from class name\n",
        "def generate_images_for_class(class_name, num_images=5):\n",
        "    if class_name not in class_dict:\n",
        "        print(\"Invalid class name!\")\n",
        "        return\n",
        "    class_index = class_dict[class_name]\n",
        "    label = tf.one_hot([class_index] * num_images, NUM_CLASSES)\n",
        "    noise = tf.random.normal([num_images, NOISE_DIM])\n",
        "    generated_images = generator([noise, label], training=False)\n",
        "    generated_images = (generated_images + 1) / 2.0\n",
        "\n",
        "    plt.figure(figsize=(num_images * 2, 2))\n",
        "    for i in range(num_images):\n",
        "        plt.subplot(1, num_images, i+1)\n",
        "        plt.imshow(generated_images[i])\n",
        "        plt.axis('off')\n",
        "    plt.show()\n",
        "\n",
        "# Get user input\n",
        "user_input = input(\"Enter a class name (e.g., cat, ship, dog): \").strip().lower()\n",
        "generate_images_for_class(user_input, num_images=5)"
      ],
      "metadata": {
        "colab": {
          "base_uri": "https://localhost:8080/",
          "height": 239
        },
        "id": "SObrwSToJsOA",
        "outputId": "73897ea3-e2c1-49a8-d93f-9a0b866eec2e"
      },
      "execution_count": 6,
      "outputs": [
        {
          "name": "stdout",
          "output_type": "stream",
          "text": [
            "Epoch 1 completed\n",
            "Epoch 2 completed\n",
            "Epoch 3 completed\n",
            "Enter a class name (e.g., cat, ship, dog): cat\n"
          ]
        },
        {
          "output_type": "display_data",
          "data": {
            "text/plain": [
              "<Figure size 1000x200 with 5 Axes>"
            ],
            "image/png": "[encoded data removed]"
          },
          "metadata": {}
        }
      ]
    }
  ]
}